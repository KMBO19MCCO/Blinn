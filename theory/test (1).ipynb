{
 "cells": [
  {
   "cell_type": "markdown",
   "id": "7aa4919e-573c-4359-a98f-f70973049244",
   "metadata": {},
   "source": [
    "Важно заметить, что мы всегда можем преобразовать наши координаты с помощью матрицы $T$:\n",
    "  \n",
    "$$ \n",
    "T = \\begin{bmatrix} t & u \\\\ s & v \\\\ \\end{bmatrix}\n",
    "$$\n",
    "\n",
    "$$\n",
    "\\begin{bmatrix} x & w \\\\ \\end{bmatrix} = \n",
    "\\begin{bmatrix} \\tilde{x} & \\tilde{w} \\\\ \\end{bmatrix}  \n",
    "\\begin{bmatrix} t & u \\\\ s & v \\\\ \\end{bmatrix} \\quad\\quad\\quad\\quad(1)\n",
    "$$\n",
    " \n",
    " Об этом было написано в статье [2]. (Blinn, J.F., \"Inferring Transforms\")\n",
    " В статье также были сделаны вывод о том, что данное преобразование никак не меняет наши корни или их кратность.\n",
    " Также мы всегда можем найти такую матрицу для перехода от одних координат в другие.\n",
    " То есть, любое кубическое уравнение, например, с тремя действительными корнями может быть преобразовано в другое кубичесткое уравнени с тремя действительными корнями."
   ]
  },
  {
   "cell_type": "markdown",
   "id": "373650e5-2825-40d8-9a8a-af886ef3d240",
   "metadata": {},
   "source": [
    "$$ \n",
    "T = \\begin{bmatrix} t & u \\\\ s & v \\\\ \\end{bmatrix}\n",
    "$$"
   ]
  },
  {
   "cell_type": "markdown",
   "id": "6d462f5f-e930-4117-87aa-b39502702fab",
   "metadata": {},
   "source": [
    "$$ \n",
    "\\begin{bmatrix} x & w \\\\ \\end{bmatrix} = \n",
    "\\begin{bmatrix} \\tilde{x} & \\tilde{w} \\\\ \\end{bmatrix}  \n",
    "\\begin{bmatrix} t & u \\\\ s & v \\\\ \\end{bmatrix} \\quad\\quad\\quad\\quad(1)\n",
    "$$\n"
   ]
  },
  {
   "cell_type": "code",
   "execution_count": null,
   "id": "95fe366c-83bc-4b8f-a722-908e39700cef",
   "metadata": {},
   "outputs": [],
   "source": []
  }
 ],
 "metadata": {
  "kernelspec": {
   "display_name": "Python 3 (ipykernel)",
   "language": "python",
   "name": "python3"
  },
  "language_info": {
   "codemirror_mode": {
    "name": "ipython",
    "version": 3
   },
   "file_extension": ".py",
   "mimetype": "text/x-python",
   "name": "python",
   "nbconvert_exporter": "python",
   "pygments_lexer": "ipython3",
   "version": "3.10.6"
  }
 },
 "nbformat": 4,
 "nbformat_minor": 5
}
